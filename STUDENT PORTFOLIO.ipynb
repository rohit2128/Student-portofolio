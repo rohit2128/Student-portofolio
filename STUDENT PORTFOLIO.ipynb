{
 "cells": [
  {
   "cell_type": "markdown",
   "id": "ead65d06",
   "metadata": {},
   "source": [
    "# STUDENT PORTFOLIO"
   ]
  },
  {
   "cell_type": "code",
   "execution_count": 4,
   "id": "b5a21aeb",
   "metadata": {},
   "outputs": [
    {
     "name": "stdout",
     "output_type": "stream",
     "text": [
      "Student portfolio\n",
      "\n",
      "Student name:\tRohit suresh jadhav\n",
      "Std:\t\t10\n",
      "Division:\tA\n",
      "Roll no:\t12\n",
      "\n",
      " Subjects \t\t Marks\n",
      "1.Maths:\t\t80\n",
      "2.English:\t\t75\n",
      "3.Science:\t\t85\n",
      "4.Social science:\t80\n",
      "\n",
      "Total Marks\n",
      "320\n",
      "\n",
      "Percentage\n",
      "80.0\n"
     ]
    }
   ],
   "source": [
    "print(\"Student portfolio\")\n",
    "Name = str(input(\"\\nStudent name:\\t\"))\n",
    "Std = int(input(\"Std:\\t\\t\"))\n",
    "Division = str(input(\"Division:\\t\"))\n",
    "Rollno = int(input(\"Roll no:\\t\"))\n",
    "print(\"\\n Subjects \\t\\t Marks\")\n",
    "sub1 = int(input(\"1.Maths:\\t\\t\"))\n",
    "sub2 = int(input(\"2.English:\\t\\t\"))\n",
    "sub3 = int(input(\"3.Science:\\t\\t\"))\n",
    "sub4 = int(input(\"4.Social science:\\t\"))\n",
    "total = (sub1+sub2+sub3+sub4) #TOTAL MARKS OBTAINED BY STUDENTS\n",
    "print(\"\\nTotal Marks\") \n",
    "print(total)                  \n",
    "print(\"\\nPercentage\")\n",
    "percent = total/4\n",
    "print(percent)                #TOTAL PERCENTAGE"
   ]
  },
  {
   "cell_type": "code",
   "execution_count": null,
   "id": "9592c51c",
   "metadata": {},
   "outputs": [],
   "source": []
  },
  {
   "cell_type": "code",
   "execution_count": null,
   "id": "a4d183c7",
   "metadata": {},
   "outputs": [],
   "source": []
  }
 ],
 "metadata": {
  "kernelspec": {
   "display_name": "Python 3",
   "language": "python",
   "name": "python3"
  },
  "language_info": {
   "codemirror_mode": {
    "name": "ipython",
    "version": 3
   },
   "file_extension": ".py",
   "mimetype": "text/x-python",
   "name": "python",
   "nbconvert_exporter": "python",
   "pygments_lexer": "ipython3",
   "version": "3.8.8"
  }
 },
 "nbformat": 4,
 "nbformat_minor": 5
}
